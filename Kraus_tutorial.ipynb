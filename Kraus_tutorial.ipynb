{
 "cells": [
  {
   "cell_type": "markdown",
   "metadata": {},
   "source": [
    "Copyright © 2023 Yuchen Wang(wang3602@purdue.edu), Saurabh Baswaraj Shivpuje(sshivpuj@purdue.edu)\n",
    "\n",
    "Permission is hereby granted, free of charge, to any person obtaining a copy of this software and associated documentation files (the “Software”), to deal in the Software without restriction, including without limitation the rights to use, copy, modify, merge, publish, distribute, sublicense, and/or sell copies of the Software, and to permit persons to whom the Software is furnished to do so, subject to the following conditions:\n",
    "\n",
    "The above copyright notice and this permission notice shall be included in all copies or substantial portions of the Software.\n",
    "\n",
    "THE SOFTWARE IS PROVIDED “AS IS”, WITHOUT WARRANTY OF ANY KIND, EXPRESS OR IMPLIED, INCLUDING BUT NOT LIMITED TO THE WARRANTIES OF MERCHANTABILITY, FITNESS FOR A PARTICULAR PURPOSE AND NONINFRINGEMENT. IN NO EVENT SHALL THE AUTHORS OR COPYRIGHT HOLDERS BE LIABLE FOR ANY CLAIM, DAMAGES OR OTHER LIABILITY, WHETHER IN AN ACTION OF CONTRACT, TORT OR OTHERWISE, ARISING FROM, OUT OF OR IN CONNECTION WITH THE SOFTWARE OR THE USE OR OTHER DEALINGS IN THE SOFTWARE."
   ]
  },
  {
   "cell_type": "markdown",
   "metadata": {},
   "source": [
    "# Tutorial on quantum algorithm with the Kraus operators"
   ]
  },
  {
   "cell_type": "markdown",
   "metadata": {},
   "source": [
    "Here, we provide the code for a general quantum algorithm simulating open quantum dynamics described by the Kraus operators on IBM quantum simulator QASM. This code allows you to choose your Kraus operators and initial density matrix, these are the two only input requirement. The example discussed in this code is the amplitude damping model. For detailed explanations, please refer our works: Sci Rep 10, 3301 (2020)https://doi.org/10.1038/s41598-020-60321-x And Quantum 6, 726 (2022)https://doi.org/10.22331/q-2022-05-30-726. The python and IBM qiskit codes of algorithm involved in implementing the Kraus operators are included in the following order:   \n",
    "\n",
    "1. Importing libraries \n",
    "2. Accepting inputs\n",
    "3. 2-dilation function\n",
    "4. QASM simulation \n",
    "5. Plotting the simulation results\n"
   ]
  },
  {
   "cell_type": "markdown",
   "metadata": {},
   "source": [
    "# Importing Libraries\n",
    "The four major libraries imported for this code are: \n",
    "* \"numpy\" for all matrix related numerical calculations\n",
    "* \"scipy\" for calculating square root of matrix\n",
    "* \"matplotlib\" for generating plots from results obtained\n",
    "* \"qiskit\" for all types of quantum implementation"
   ]
  },
  {
   "cell_type": "code",
   "execution_count": 1,
   "id": "bf4a58d8",
   "metadata": {},
   "outputs": [],
   "source": [
    "import numpy as np\n",
    "import scipy.linalg as sp\n",
    "import matplotlib.pyplot as plt\n",
    "import qiskit\n",
    "from qiskit import *\n",
    "from qiskit_aer import AerSimulator\n",
    "from qiskit.quantum_info.operators import Operator"
   ]
  },
  {
   "cell_type": "markdown",
   "metadata": {},
   "source": [
    "# Defining the initial state and the Kraus operators"
   ]
  },
  {
   "cell_type": "code",
   "execution_count": 2,
   "id": "f6fd43f5",
   "metadata": {},
   "outputs": [],
   "source": [
    "#defining the initial density matrix rho\n",
    "rho = np.zeros((2,2),'complex') \n",
    "rho[0,0]=1/4\n",
    "rho[0,1]=1/4\n",
    "rho[1,0]=1/4\n",
    "rho[1,1]=3/4\n",
    "gamma=1.52e9# gamma is the spontaneous emission rate\n",
    "\n",
    "iden=np.eye(2)\n",
    "iden2= np.eye(4)\n",
    "\n",
    "#flattening or vectorize the density matrix\n",
    "rho_norm=sp.norm(rho)\n",
    "rho_flat= rho.flatten()/rho_norm\n",
    "#defining the Kraus operators\n",
    "def k_0(x):    \n",
    "        k = np.zeros((2,2),'complex')\n",
    "        k[0,0]=1\n",
    "        k[0,1]=0\n",
    "        k[1,0]=0\n",
    "        k[1,1]= np.sqrt(np.exp(-gamma*x))\n",
    "        return k\n",
    "def k_1(x):    \n",
    "        k = np.zeros((2,2),'complex')\n",
    "        k[0,0]=0\n",
    "        k[0,1]=np.sqrt(1-np.exp(-gamma*x))\n",
    "        k[1,0]=0\n",
    "        k[1,1]=0\n",
    "        return k"
   ]
  },
  {
   "cell_type": "markdown",
   "metadata": {},
   "source": [
    "# Defining function for 2-dialation"
   ]
  },
  {
   "cell_type": "code",
   "execution_count": 3,
   "id": "05a935ad",
   "metadata": {},
   "outputs": [],
   "source": [
    "#defining the function for dilation\n",
    "def udil(k):\n",
    "#first and second stands for the M and N, i.e. Kraus and its complex conjugate   \n",
    "    first= np.kron(k,iden)\n",
    "    kc=k.conjugate()  #complex conjugate of k\n",
    "    second= np.kron(iden,kc)\n",
    "    fcon = (first.conjugate()).T\n",
    "    scon = (second.conjugate()).T\n",
    "    #calculate the defect operators of each Kraus operators\n",
    "    fdef = sp.sqrtm(iden2-np.dot(fcon,first))\n",
    "    sdef = sp.sqrtm(iden2 -np.dot(scon,second))\n",
    "    fcondef = sp.sqrtm(iden2-np.dot(first,fcon))\n",
    "    scondef = sp.sqrtm(iden2-np.dot(second,scon))\n",
    "    #2-dilation process \n",
    "    Ufirst= np.block([[first, np.zeros((4,4)),fcondef,np.zeros((4,4))],\n",
    "    [fdef,np.zeros((4,4)),-fcon,np.zeros((4,4))],\n",
    "    [np.zeros((4,4)),np.eye(4),np.zeros((4,4)),np.zeros((4,4))],\n",
    "    [np.zeros((4,4)),np.zeros((4,4)),np.zeros((4,4)),np.eye(4)]])\n",
    "    \n",
    "    Usecond=np.block([[second, np.zeros((4,4)),scondef,np.zeros((4,4))],\n",
    "    [sdef,np.zeros((4,4)),-scon,np.zeros((4,4))],\n",
    "    [np.zeros((4,4)),np.eye(4),np.zeros((4,4)),np.zeros((4,4))],\n",
    "    [np.zeros((4,4)),np.zeros((4,4)),np.zeros((4,4)),np.eye(4)]])\n",
    "\n",
    "    ufre=np.reshape(Ufirst,(1,256))\n",
    "    usec=np.reshape(Usecond,(1,256))\n",
    "    #returning the unitaries for both the Kraus operator and its complex conjugate\n",
    "    return ufre,usec "
   ]
  },
  {
   "cell_type": "markdown",
   "metadata": {},
   "source": [
    "# QASM simulation with Qiskit package"
   ]
  },
  {
   "cell_type": "code",
   "execution_count": 4,
   "id": "b3ab0639",
   "metadata": {},
   "outputs": [],
   "source": [
    "#defining lists used to store the results\n",
    "rho_at_t=np.zeros((1000,2), \"complex\")\n",
    "time=np.zeros((1000,1),)\n",
    "udil01=np.zeros((1000,256),\"complex\")\n",
    "udil02=np.zeros((1000,256),\"complex\")\n",
    "udil11=np.zeros((1000,256),\"complex\")\n",
    "udil12=np.zeros((1000,256),\"complex\")\n",
    "# assigning the time-steps\n",
    "for t in range(0,1000):\n",
    "    tt=t*10**-12\n",
    "    k0=k_0(tt)\n",
    "    k1=k_1(tt)\n",
    "    udil01[t],udil02[t] = udil(k0)    \n",
    "    udil11[t],udil12[t] = udil(k1)\n",
    "\n",
    "shots = 2000\n",
    "#create dictionaries to store the results. three binary digits due to 8*8 matrix needs three qubits\n",
    "result = {'0000': 0, '0001': 0, '0010': 0, '0011': 0,'0100': 0, '0101': 0, '0110': 0, '0111': 0, '1000': 0, '1001': 0, '1010': 0, '1011': 0,'1100': 0, '1101': 0, '1110': 0, '1111': 0} \n",
    "result2 = {'0000': 0, '0001': 0, '0010': 0, '0011': 0,'0100': 0, '0101': 0, '0110': 0, '0111': 0, '1000': 0, '1001': 0, '1010': 0, '1011': 0,'1100': 0, '1101': 0, '1110': 0, '1111': 0} \n",
    "p_excited = []# create list to store probability for acceptor state\n",
    "p_ground = []# create list to store probability for donor state\n",
    "\n",
    "# Below are the loop of the QASM simulation \n",
    "aersim=AerSimulator()\n",
    "for i in range (0,1000):\n",
    "    #for Kraus operator 1\n",
    "    U1first=np.reshape(udil01[i],(16,16))\n",
    "    U1second=np.reshape(udil02[i],(16,16))\n",
    "    # qiskit quantum circuit generation process\n",
    "    initial_state = np.concatenate([rho_flat,np.zeros(12)])\n",
    "    qr = QuantumRegister(4)\n",
    "    cr = ClassicalRegister(4)\n",
    "    qc = QuantumCircuit(qr, cr)\n",
    "    qc.initialize(initial_state, qr)\n",
    "    # generating self-defined quantum gates with dilated unitaries\n",
    "    A = Operator(U1first)\n",
    "    B = Operator(U1second)\n",
    "    U_G_op = A.compose(B)\n",
    "    qc.unitary(U_G_op, qr)\n",
    "    qc.measure(qr, cr)\n",
    "    counts1 = aersim.run(qc,shots=shots).result().get_counts()\n",
    "    for x in counts1:\n",
    "        result[x] = counts1[x]\n",
    "    # multiply the norm factor to retrieve the original data, sqrt because the results is probability not prob density\n",
    "    pg1 = np.sqrt(result['0000'] / 2000)*rho_norm\n",
    "    pe1 =  np.sqrt(result['0011'] / 2000)*rho_norm    \n",
    "    #for Kraus operator 2\n",
    "    U2first=np.reshape(udil11[i],(16,16))\n",
    "    U2second=np.reshape(udil12[i],(16,16))\n",
    "    initial_state2 = np.concatenate([rho_flat,np.zeros(12)])\n",
    "    qr2 = QuantumRegister(4)\n",
    "    cr2 = ClassicalRegister(4)\n",
    "    qc2 = QuantumCircuit(qr2, cr2)\n",
    "    qc2.initialize(initial_state, qr2)    \n",
    "    C = Operator(U2first)\n",
    "    D = Operator(U2second)\n",
    "    U_G_op2 = C.compose(D)   \n",
    "    qc2.unitary(U_G_op2, qr2)\n",
    "    qc2.measure(qr2, cr2)\n",
    "    counts2 = aersim.run(qc2, shots=shots).result().get_counts()\n",
    "    for x in counts2:\n",
    "        result2[x] = counts2[x]\n",
    "    # multiply the norm factor to retrieve the original data, sqrt because the results is probability not prob density\n",
    "    pg2 = np.sqrt(result2['0000'] / 2000)*rho_norm\n",
    "    pe2 =  np.sqrt(result2['0011'] / 2000)*rho_norm    \n",
    "    pe=pe1+pe2\n",
    "    pg=pg1+pg2\n",
    "    p_excited.append(pe)\n",
    "    p_ground.append(pg)"
   ]
  },
  {
   "cell_type": "markdown",
   "metadata": {},
   "source": [
    "# Ploting the simulation results"
   ]
  },
  {
   "cell_type": "code",
   "execution_count": 5,
   "id": "6df78d66",
   "metadata": {},
   "outputs": [
    {
     "data": {
      "text/plain": [
       "[<matplotlib.lines.Line2D at 0x155cbca30>]"
      ]
     },
     "execution_count": 5,
     "metadata": {},
     "output_type": "execute_result"
    },
    {
     "data": {
      "image/png": "[encoded data removed]",
      "text/plain": [
       "<Figure size 640x480 with 1 Axes>"
      ]
     },
     "metadata": {},
     "output_type": "display_data"
    }
   ],
   "source": [
    "#plotting the QASM simulation results\n",
    "time_array_QASM = np.arange(0, 1000, 1)\n",
    "\n",
    "plt.plot(time_array_QASM, p_ground, 'r-', label=\"Ground state\")\n",
    "plt.plot(time_array_QASM, p_excited, 'b-', label='Excited state')"
   ]
  }
 ],
 "metadata": {
  "kernelspec": {
   "display_name": "Python 3",
   "language": "python",
   "name": "python3"
  },
  "language_info": {
   "codemirror_mode": {
    "name": "ipython",
    "version": 3
   },
   "file_extension": ".py",
   "mimetype": "text/x-python",
   "name": "python",
   "nbconvert_exporter": "python",
   "pygments_lexer": "ipython3",
   "version": "3.9.6"
  }
 },
 "nbformat": 4,
 "nbformat_minor": 5
}
