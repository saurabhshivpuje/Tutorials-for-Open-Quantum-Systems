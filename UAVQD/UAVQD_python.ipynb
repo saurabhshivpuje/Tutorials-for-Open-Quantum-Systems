{
 "cells": [
  {
   "cell_type": "code",
   "execution_count": 1,
   "metadata": {},
   "outputs": [],
   "source": [
    "import numpy as np\n",
    "from scipy.linalg import expm, kron\n",
    "from itertools import combinations, product\n",
    "import matplotlib.pyplot as plt"
   ]
  },
  {
   "cell_type": "markdown",
   "metadata": {},
   "source": [
    "For detailed explaination, refer to:\n",
    "1. Chen, Huo, Niladri Gomes, Siyuan Niu, and Wibe Albert de Jong. \"Adaptive variational simulation for open quantum systems.\" arXiv preprint arXiv:2305.06915 (2023).\n",
    "2. Shivpuje, Saurabh, Manas Sajjan, Yuchen Wang, Zixuan Hu, and Sabre Kais. \"Designing variational ansatz for quantum-enabled simulation of non-unitary dynamical evolution-an excursion into Dicke supperradiance.\" arXiv preprint arXiv:2403.04653 (2024).\n",
    "\n",
    " Unlike closed quantum systems, which can be described by pure states represented by wave functions, open quantum systems are often described using density matrices to account for the mixed states resulting from interactions with the environment. \n",
    "\n",
    "Lindblad equation:\n",
    "\\begin{equation}\\tag{1}\n",
    "\\frac{d \\rho(t)}{dt} = -i[H(t), \\rho(t)] + \\mathcal{L}[\\rho(t)]\n",
    "\\end{equation}\n",
    "\n",
    "where,\n",
    "\n",
    "\\begin{equation}\\tag{2}\n",
    "\\mathcal{L}[\\rho(t)] = \\sum_{k=1}^K \\gamma_k \\left( L_k \\rho(t) L_k^\\dagger - \\frac{1}{2} \\{L_k^\\dagger L_k, \\rho(t)\\} \\right)\n",
    "\\end{equation}"
   ]
  },
  {
   "cell_type": "markdown",
   "metadata": {},
   "source": [
    "\\begin{equation}\\tag{3}\n",
    "\\rho \\mapsto \\text{vec}(\\rho) = |\\nu\\rangle \\:\\:\\:\\:\\: \\rm{where} \\:\\:\\:\\:\n",
    "|\\nu\\rangle \\equiv [\\rho_{11},\\rho_{12},\\cdots,\\rho_{21},\\rho_{22},\\cdots,\\rho_{NN}]^{\\mathrm{T}} \\in C^{N^2}\n",
    "\\end{equation}\n"
   ]
  },
  {
   "cell_type": "markdown",
   "metadata": {},
   "source": [
    "\\begin{equation}\\tag{4}\n",
    "\\frac{d}{dt}|\\nu(t)\\rangle = - \\mathrm{i} H_{\\mathrm{eff}}(t)|\\nu(t)\\rangle,\n",
    "\\end{equation}\n",
    "\n",
    "where,\n",
    "\n",
    "\\begin{equation}\\tag{4.a}\n",
    "H_{\\mathrm{eff}} = I \\otimes H - H^{T} \\otimes I + \\mathrm{i} \\sum_k \\left[L_k^{\\ast} \\otimes L_k - \\frac{1}{2}(I \\otimes L_k^{\\dagger}L_k + L_k^{T}L_k^{\\ast} \\otimes I ) \\right],\n",
    "\\end{equation}"
   ]
  },
  {
   "cell_type": "markdown",
   "metadata": {},
   "source": [
    "using the identity\n",
    "\\begin{equation}\\tag{4.b}\n",
    "\\text{vec}(ABC) = (C^T \\otimes A) \\text{vec}(B)\n",
    "\\end{equation}"
   ]
  },
  {
   "cell_type": "markdown",
   "metadata": {},
   "source": [
    "\\begin{equation}\\tag{5}\n",
    "H_{\\text{eff}} \\equiv H_e - i H_a\n",
    "\\end{equation}"
   ]
  },
  {
   "cell_type": "markdown",
   "metadata": {},
   "source": [
    "where,\n",
    "\n",
    "\\begin{equation}\\tag{5.a}\n",
    "H_e = \\frac{H_{\\mathrm{eff}} + H_{\\mathrm{eff}}^{\\dagger}}{2}\n",
    "\\end{equation}\n",
    "and\n",
    "\\begin{equation}\\tag{5.b}\n",
    "H_a = \\mathrm{i} \\frac{H_{\\mathrm{eff}} - H_{\\mathrm{eff}}^{\\dagger}}{2}\n",
    "\\end{equation}"
   ]
  },
  {
   "cell_type": "markdown",
   "metadata": {},
   "source": [
    "### Vectorized Effective Hamiltonian\n"
   ]
  },
  {
   "cell_type": "code",
   "execution_count": 2,
   "metadata": {},
   "outputs": [],
   "source": [
    "def vectorize_comm(A):\n",
    "    # Create an identity matrix with the same dimension as A\n",
    "    iden = np.eye(A.shape[0])\n",
    "    # Compute the vectorized commutator [A, .] as the Kronecker product \n",
    "    return kron(iden, A) - kron(A.T, iden)\n",
    "\n",
    "class VectorizedEffectiveHamiltonian_class:\n",
    "    def __init__(self, He, Ha):\n",
    "        self.He = He\n",
    "        self.Ha = Ha\n",
    "\n",
    "def VectorizedEffectiveHamiltonian(H, gamma, lind):\n",
    "    # Create an identity matrix with the same dimension as H\n",
    "    iden = np.eye(H.shape[0])\n",
    "    # Get the dimension of H\n",
    "    d = H.shape[0]\n",
    "    # Compute the vectorized commutator for the Hamiltonian H\n",
    "    vec_H = vectorize_comm(H)\n",
    "    # Initialize the result matrix with zeros (complex type)\n",
    "    res = np.zeros((d**2, d**2), dtype=np.complex128)\n",
    "    \n",
    "    # Compute the conjugate of the Lindblad operator\n",
    "    L_conj = lind.conj()\n",
    "    L_dagger_L = L_conj.T @ lind\n",
    "    # Compute the Lindblad contribution to the effective Hamiltonian\n",
    "    res -= gamma * (kron(L_conj, lind) - (kron(iden, L_dagger_L) + kron(L_dagger_L.T, iden)) / 2)\n",
    "\n",
    "    # Return an instance of the VectorizedEffectiveHamiltonian_class with vec_H and res\n",
    "    return VectorizedEffectiveHamiltonian_class(vec_H, res)\n"
   ]
  },
  {
   "cell_type": "markdown",
   "metadata": {},
   "source": [
    "### Designing Ansatz"
   ]
  },
  {
   "cell_type": "markdown",
   "metadata": {},
   "source": [
    "The key concept of a variational algorithm is to approximate quantum states with a parameterized circuit (ansatz):\n",
    "\n",
    "\\begin{equation}\\tag{6}\n",
    "    |\\nu(t)\\rangle \\approx |\\phi(t)\\rangle = \\prod^k_{l=1} e^{-\\mathrm{i}\\theta_{l}(t)O_{l}}|\\psi_R\\rangle\n",
    "\\end{equation}"
   ]
  },
  {
   "cell_type": "markdown",
   "metadata": {},
   "source": [
    "where $l$ indexes each layer of the circuit with a unitary gate $e^{-\\mathrm{i}\\theta_{l}(t)O_{l}} \\in \\mathcal{L}(C^{N^2})$, $\\theta_{\\mu}(t)$ are real tunable parameters, and $|\\psi_R\\rangle$ is the initial reference state."
   ]
  },
  {
   "cell_type": "code",
   "execution_count": 3,
   "metadata": {},
   "outputs": [],
   "source": [
    "# Ansatz Class and Operators\n",
    "class Ansatz_class:\n",
    "    def __init__(self, nqbit, u0, relrcut, pool, theta=[], ansatz=[]):\n",
    "        self.theta = np.array(theta)\n",
    "        self.A = ansatz\n",
    "        self.state = u0.copy()\n",
    "        self.ref = u0.copy()\n",
    "        self.relrcut = relrcut\n",
    "        self.nqbit = nqbit\n",
    "        self.pool = pool\n",
    "\n",
    "class AnsatzOperatorBase:\n",
    "    pass\n",
    "\n",
    "class PauliOperator_class(AnsatzOperatorBase):\n",
    "    def __init__(self, mat, tag, nqbit):\n",
    "        self.mat = mat\n",
    "        self.tag = tag\n",
    "        self.nqbit = nqbit\n",
    "\n",
    "def single_clause(ops, q_ind, weight, num_qubit):\n",
    "    si = np.eye(2)\n",
    "    res = weight * np.eye(1)\n",
    "    for i in range(1, num_qubit + 1):\n",
    "        if i in q_ind:\n",
    "            op2 = eval(f\"{ops[q_ind.index(i)]}\")\n",
    "            res = kron(res, op2)\n",
    "        else:\n",
    "            res = kron(res, si)\n",
    "    return res\n",
    "\n",
    "def PauliOperator(ops, idx, w, nqbit):\n",
    "    sortedRep = sorted(zip(ops, idx), key=lambda x: x[1])\n",
    "    tag = ''.join([f\"{o}{i}\" for o, i in sortedRep])\n",
    "    mat = single_clause(ops, idx, w, nqbit)\n",
    "    return PauliOperator_class(mat, tag, nqbit)\n"
   ]
  },
  {
   "cell_type": "code",
   "execution_count": 4,
   "metadata": {},
   "outputs": [],
   "source": [
    "# Defining pool of operators/gates\n",
    "sx = np.array([[0, 1], [1, 0]])\n",
    "sy = np.array([[0, -1j], [1j, 0]])\n",
    "sz = np.array([[1, 0], [0, -1]])\n",
    "\n",
    "def build_pool(nqbit):\n",
    "    pauliStr = [\"sx\", \"sz\", \"sy\"]\n",
    "    res = []\n",
    "    for order in range(1, 3):\n",
    "        for idx in combinations(range(1, nqbit + 1), order):\n",
    "            for op in product(pauliStr, repeat=order):\n",
    "                res.append(PauliOperator(op, list(idx), 1, nqbit))\n",
    "    return res\n",
    "\n",
    "def Ansatz(u0, relrcut, theta=[], ansatz=[]):\n",
    "    nqbit = int(np.log2(len(u0)))\n",
    "    pool_qubit = 2 * nqbit\n",
    "    u0 = np.outer(u0, u0).flatten()\n",
    "    pool = build_pool(pool_qubit)\n",
    "    return Ansatz_class(nqbit, u0, relrcut, pool, theta, ansatz)\n"
   ]
  },
  {
   "cell_type": "markdown",
   "metadata": {},
   "source": [
    "### System evolution\n"
   ]
  },
  {
   "cell_type": "code",
   "execution_count": 5,
   "metadata": {},
   "outputs": [],
   "source": [
    "# Helper Functions for evolution\n",
    "def tag(A):\n",
    "    return A.tag if A else None\n",
    "\n",
    "def aexp(A, theta):\n",
    "    return expm(-1j * theta * A.mat / 2)\n",
    "\n",
    "def add_A(A, P):\n",
    "    A.A.append(P)\n",
    "    A.theta = np.append(A.theta, 0)\n",
    "\n",
    "def lmul(A, ψ):\n",
    "    return A.mat @ ψ\n",
    "\n",
    "def update_theta(ansatz, dtheta, dt):\n",
    "    ansatz.theta = ansatz.theta + dtheta * dt\n",
    "\n",
    "def partial_theta(A):\n",
    "    len_A = len(A.A)\n",
    "    ψ = A.ref.copy()\n",
    "    res = []\n",
    "    for i in range(len_A):\n",
    "        ψ = aexp(A.A[i], A.theta[i]) @ ψ\n",
    "        ψt = -0.5j * lmul(A.A[i], ψ)\n",
    "        for j in range(i + 1, len_A):\n",
    "            ψt = aexp(A.A[j], A.theta[j]) @ ψt\n",
    "        res.append(ψt)\n",
    "    return res\n",
    "\n",
    "def build_m(ψ, dψ):\n",
    "    l = len(dψ)\n",
    "    res = np.zeros((l, l))\n",
    "    ψ = ψ[:, np.newaxis] if len(ψ.shape) == 1 else ψ\n",
    "\n",
    "    for μ in range(l):\n",
    "        for ν in range(l):\n",
    "            res[μ, ν] = 2 * np.real(dψ[μ].T.conj() @ dψ[ν] + ψ.T.conj() @ dψ[μ] @ ψ.T.conj() @ dψ[ν])\n",
    "    return res\n",
    "\n",
    "def update_m(m, dψa, ψ, dψ):\n",
    "    l = m.shape[0]\n",
    "    mp = np.zeros((l + 1, l + 1))\n",
    "    dψa = dψa[:, np.newaxis]\n",
    "    ψ = ψ[:, np.newaxis]\n",
    "    mp[l, l] = 2 * np.real((dψa.T.conj() @ dψa + ψ.T.conj() @ dψa @ ψ.T.conj() @ dψa).item())\n",
    "    mp[:l, :l] = m\n",
    "    for μ in range(l):\n",
    "        temp = 2 * np.real(dψ[μ].T.conj() @ dψa + ψ.T.conj() @ dψ[μ] @ ψ.T.conj() @ dψa)\n",
    "        mp[μ, l] = temp.item()\n",
    "        mp[l, μ] = temp.item()\n",
    "    return mp\n",
    "\n",
    "def build_v(ψ, dψ, He, Ha):\n",
    "    L = -1j * (He - 1j * Ha)\n",
    "    l = len(dψ)\n",
    "    ψ = ψ[:, np.newaxis] if len(ψ.shape) == 1 else ψ\n",
    "    res = np.zeros(l)\n",
    "    for μ in range(l):\n",
    "        res[μ] = 2 * np.real((dψ[μ].T.conj() @ L @ ψ + dψ[μ].T.conj() @ ψ @ ψ.T.conj() @ L.T.conj() @ ψ).item())\n",
    "    return res\n",
    "\n",
    "def update_v(v, dψₐ, ψ, He, Ha):\n",
    "    L = -1j * (He - 1j * Ha)\n",
    "    l = len(v)\n",
    "    dψₐ = dψₐ[:, np.newaxis]\n",
    "    ψ = ψ[:, np.newaxis]\n",
    "    vp = np.zeros(l + 1)\n",
    "    vp[:l] = v\n",
    "    vp[l] = 2 * np.real((dψₐ.T.conj() @ L @ ψ + dψₐ.T.conj() @ ψ @ ψ.T.conj() @ L.T.conj() @ ψ).item())\n",
    "    return vp\n",
    "\n",
    "def lin_solve(m, v, λ=1e-4):\n",
    "    A = m.T @ m\n",
    "    try:\n",
    "        xλ = np.linalg.solve(A + λ**2 * np.eye(A.shape[0]), m.T @ v)\n",
    "    except np.linalg.LinAlgError:\n",
    "        xλ = np.linalg.lstsq(A + λ**2 * np.eye(A.shape[0]), m.T @ v, rcond=None)[0]\n",
    "    return xλ, 2 * v.T @ xλ - xλ.T @ m @ xλ\n",
    "\n",
    "def get_newest_A(A):\n",
    "    return A.A[-1] if A.A else None\n",
    "\n",
    "def update_state(A):\n",
    "    if A.A:\n",
    "        state = A.ref.copy()\n",
    "        for i in range(len(A.A)):\n",
    "            state = aexp(A.A[i], A.theta[i]) @ state\n",
    "        A.state = state\n",
    "    else:\n",
    "        A.state = A.ref\n"
   ]
  },
  {
   "cell_type": "markdown",
   "metadata": {},
   "source": [
    "### Unrestricted adaptive procedure\n",
    "\n",
    "##### The algorithm uses an adaptive procedure to add components to the ansatz i.e. add new operators $\\{O_l\\}$ from a pool of available operators to enhance expressibility. To ensure that is the case, the McLachlan's distance is kept below a prefixed threshold, and if it exceeds this threshold, the adaptive procedure is triggered. In the unrestricted adaptive variational quantum dynamics (UAVQD) protocol, a greedy approach is used to select and apply operators from the pool that lower the McLachlan distance, ensuring that it reaches the lowest possible value. "
   ]
  },
  {
   "cell_type": "code",
   "execution_count": 6,
   "metadata": {},
   "outputs": [],
   "source": [
    "def one_step(A, He, Ha, dt):\n",
    "    relrcut = A.relrcut\n",
    "    psi_ = A.state\n",
    "    dpsi_ = partial_theta(A)\n",
    "    M = build_m(psi_, dpsi_)\n",
    "    V = build_v(psi_, dpsi_, He, Ha)\n",
    "    dtheta, vmv = lin_solve(M, V)\n",
    "    vmvMax = vmv\n",
    "    Mtmp = M\n",
    "    Vtmp = V\n",
    "    dthetatmp = dtheta\n",
    "    opTmp = None\n",
    "    dpsi_ₐTmp = None\n",
    "    add_flag = True\n",
    "    while add_flag:\n",
    "        tagTmp = None\n",
    "        for op in A.pool:\n",
    "            if tag(get_newest_A(A)) == tag(op):\n",
    "                continue\n",
    "            dpsi_ₐ = -0.5j * lmul(op, psi_)\n",
    "            Mop = update_m(M, dpsi_ₐ, psi_, dpsi_)\n",
    "            Vop = update_v(V, dpsi_ₐ, psi_, He, Ha)\n",
    "            dthetaop, vmvOp = lin_solve(Mop, Vop)\n",
    "            if vmvOp > vmvMax:\n",
    "                Mtmp = Mop\n",
    "                Vtmp = Vop\n",
    "                vmvMax = vmvOp\n",
    "                dthetatmp = dthetaop\n",
    "                opTmp = op\n",
    "                tagTmp = tag(op)\n",
    "                dpsi_ₐTmp = dpsi_ₐ\n",
    "        add_flag = vmvMax - vmv >= relrcut\n",
    "        if tagTmp is not None and add_flag:\n",
    "            add_A(A, opTmp)\n",
    "            vmv = vmvMax\n",
    "            M = Mtmp\n",
    "            V = Vtmp\n",
    "            dtheta = dthetatmp\n",
    "            dpsi_.append(dpsi_ₐTmp)\n",
    "    update_theta(A, dtheta, dt)\n",
    "    update_state(A)\n",
    "\n",
    "def set_ref(A, ref):\n",
    "    A.ref = ref\n",
    "\n",
    "def reset(A):\n",
    "    A.theta = np.array([])\n",
    "    A.A = []\n",
    "    update_state(A)\n"
   ]
  },
  {
   "cell_type": "markdown",
   "metadata": {},
   "source": [
    "### Solver function"
   ]
  },
  {
   "cell_type": "code",
   "execution_count": 7,
   "metadata": {},
   "outputs": [],
   "source": [
    "\n",
    "class AVQDSol:\n",
    "    def __init__(self, t, u, θ, A, jump_L, jump_t, status=0, norm=[]):\n",
    "        self.t = t\n",
    "        self.u = u\n",
    "        self.θ = θ\n",
    "        self.A = A\n",
    "        self.jump_L = jump_L\n",
    "        self.jump_t = jump_t\n",
    "        self.status = status\n",
    "        self.norm = norm\n",
    "\n",
    "def solve_avq(H, A, tspan, dt):\n",
    "    ref_init = A.ref.copy()\n",
    "    nqbit = A.nqbit\n",
    "    update_state(A)\n",
    "    t = tspan[0]\n",
    "    t_list = [t]\n",
    "    u_list = [A.state.reshape(2**nqbit, 2**nqbit)]\n",
    "    theta_list = [A.theta.copy()]\n",
    "    A_list = [[tag(a) for a in A.A]]\n",
    "    norm_list = [1.0]\n",
    "    Γ = 0\n",
    "    while t + dt <= tspan[1]:\n",
    "        He = H.He\n",
    "        Ha = H.Ha\n",
    "        one_step(A, He, Ha, dt)\n",
    "        psi_ = A.state\n",
    "        Γ += 2 * np.real(psi_.T.conj() @ Ha @ psi_) * dt\n",
    "        ρ = psi_.reshape(2**nqbit, 2**nqbit)\n",
    "        ρ /= np.trace(ρ)\n",
    "        t += dt\n",
    "        t_list.append(t)\n",
    "        u_list.append(ρ)\n",
    "        theta_list.append(A.theta.copy())\n",
    "        A_list.append([tag(a) for a in A.A])\n",
    "        norm_list.append(np.exp(-Γ))\n",
    "    set_ref(A, ref_init)\n",
    "    reset(A)\n",
    "    return AVQDSol(t_list, u_list, theta_list, A_list, [], [], norm=norm_list)\n"
   ]
  },
  {
   "cell_type": "code",
   "execution_count": 8,
   "metadata": {},
   "outputs": [],
   "source": [
    "# Execution Code for Amplitude damping channel example\n",
    "\n",
    "sp = (sx + 1j * sy) / 2\n",
    "Id = np.eye(2, dtype=np.complex128)\n",
    "\n",
    "tf = 1000e-12\n",
    "dt = 1000e-14\n",
    "gamma = 1.52e9\n",
    "H = np.eye(2, dtype=np.complex128)\n",
    "lind = sp\n",
    "H = VectorizedEffectiveHamiltonian(H, gamma, lind)\n",
    "u0 = np.array([1 / 2, np.sqrt(3) / 2], dtype=np.complex128) #it should be normalized initial state with 2^n length\n",
    "\n",
    "# u0 = np.array([0, 1], dtype=np.complex128)\n",
    "ansatz = Ansatz(u0, relrcut=1e-6)\n",
    "res = solve_avq(H, ansatz, [0, tf], dt)\n"
   ]
  },
  {
   "cell_type": "code",
   "execution_count": 9,
   "metadata": {},
   "outputs": [
    {
     "data": {
      "image/png": "[encoded data removed]",
      "text/plain": [
       "<Figure size 640x480 with 1 Axes>"
      ]
     },
     "metadata": {},
     "output_type": "display_data"
    }
   ],
   "source": [
    "\n",
    "excited = [res.u[i][1, 1].real for i in range(100)]\n",
    "ground = [res.u[i][0, 0].real for i in range(100)]\n",
    "times = np.linspace(0, 1000e-12, 100)\n",
    "\n",
    "plt.plot(times, excited, label=\"Excited State\", linewidth=2)\n",
    "plt.plot(times, ground, label=\"Ground State\", linewidth=2)\n",
    "plt.xlabel(\"Time (s)\")\n",
    "plt.ylabel(\"Amplitude\")\n",
    "plt.legend()\n",
    "plt.show()\n"
   ]
  }
 ],
 "metadata": {
  "kernelspec": {
   "display_name": "Python 3",
   "language": "python",
   "name": "python3"
  },
  "language_info": {
   "codemirror_mode": {
    "name": "ipython",
    "version": 3
   },
   "file_extension": ".py",
   "mimetype": "text/x-python",
   "name": "python",
   "nbconvert_exporter": "python",
   "pygments_lexer": "ipython3",
   "version": "3.12.2"
  }
 },
 "nbformat": 4,
 "nbformat_minor": 2
}
